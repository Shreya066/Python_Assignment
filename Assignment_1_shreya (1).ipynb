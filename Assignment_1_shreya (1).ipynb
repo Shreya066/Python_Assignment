{
 "cells": [
  {
   "cell_type": "markdown",
   "id": "3c805b53",
   "metadata": {
    "id": "6fbf29b6"
   },
   "source": [
    "*1. In the below elements which of them are values or an expression? eg:- values can be integer or string and expressions will be mathematical operators.*\n",
    "\n",
    "\\* - expression <br>\n",
    "'hello'- value <br>\n",
    "-87.8 - value <br>\n",
    "(-) - expression <br>\n",
    "/ - expression <br>\n",
    "\\+ - expression\t<br>\n",
    "6 - value\n"
   ]
  },
  {
   "cell_type": "markdown",
   "id": "d420c592",
   "metadata": {
    "id": "2a28bb03"
   },
   "source": [
    "*2. What is the difference between string and variable?*\n",
    "\n",
    "The major difference between a string and a variable is:\n",
    "A string can be quoted and it is a value. It can't store other values.\n",
    "String is also immutable i.e we can't modify them. \n",
    "For eg:- \"shreya\", \"earth\", etc.\n",
    "<br>\n",
    "Whereas a variable is defined as a location which stores and helps in manipulation of data.\n",
    "For eg:- a = \"Shreya\" <br>\n",
    "Here **a** is variable and **\"Shreya\"** is string"
   ]
  },
  {
   "cell_type": "markdown",
   "id": "12af5d97",
   "metadata": {
    "id": "98d3f595"
   },
   "source": [
    "*3. Describe three different data types.*\n",
    "\n",
    "Numeric :- Numeric data type represent the data which has numeric values. For eg :- integers (1, 2, 3), float (1.5, 2.3), comlex numbers (1 + 2j). <br>\n",
    "Boolean :- Boolean can be defined as the data type which has two in-built values i.e. True or False. <br>\n",
    "Sequence :- Sequence is the ordered collection of similar or different data \n",
    "types. It allows to store multiple values in an organised manner. For eg:- String (\"Shreya\", \"ineuron\")\n"
   ]
  },
  {
   "cell_type": "markdown",
   "id": "eea90045",
   "metadata": {
    "id": "41fb4542"
   },
   "source": [
    "*4. What is an expression made up of? What do all expressions do?*\n",
    "\n",
    "An expression is made up of a combination of operators and operands that is interpreted to produce some other value. For eg:- comparison operators, assignment operators. <br>\n",
    "Expressions are used to evaluate or represent values. For eg:- 2+3; in which '**2** and **3**' are operands and '**+**' is an operator."
   ]
  },
  {
   "cell_type": "markdown",
   "id": "7dbb625d",
   "metadata": {
    "id": "83a566fa"
   },
   "source": [
    "*5. This assignment statements, like spam = 10. What is the difference between an expression and a statement?*\n",
    "\n",
    "An expression is a combination of operators and operands which yields a certain result value. For eg:- 5+6=11. <br>\n",
    "Whereas a statement reprent an action or a command. For eg:- print statement."
   ]
  },
  {
   "cell_type": "markdown",
   "id": "FwcMhr40uqGc",
   "metadata": {
    "id": "FwcMhr40uqGc"
   },
   "source": [
    "*6. After running the following code, what does the variable bacon contain?\n",
    "bacon = 22\n",
    "bacon + 1*\n",
    "\n",
    "variable bacon will have value 22 as bacon is not assigned the updated value"
   ]
  },
  {
   "cell_type": "code",
   "execution_count": 1,
   "id": "0df4dc7b",
   "metadata": {
    "colab": {
     "base_uri": "https://localhost:8080/"
    },
    "id": "0df4dc7b",
    "outputId": "4767ad46-16a2-4c62-8b81-931394e88f2f"
   },
   "outputs": [
    {
     "name": "stdout",
     "output_type": "stream",
     "text": [
      "22\n"
     ]
    }
   ],
   "source": [
    "bacon = 22\n",
    "bacon + 1\n",
    "print(bacon) # it contains the value 22."
   ]
  },
  {
   "cell_type": "markdown",
   "id": "8d3b504f",
   "metadata": {
    "id": "fd817716"
   },
   "source": [
    "*7. What should the values of the following two terms be?\n",
    "'spam' \\+ 'spamspam'\n",
    "'spam' \\* 3*\n",
    "\n",
    "The values of the following two terms will be same i.e. \"spamspamspam\""
   ]
  },
  {
   "cell_type": "code",
   "execution_count": 3,
   "id": "0705228c",
   "metadata": {
    "colab": {
     "base_uri": "https://localhost:8080/"
    },
    "id": "0705228c",
    "outputId": "3b78228d-e636-4600-9bad-d1e1c156d339"
   },
   "outputs": [
    {
     "name": "stdout",
     "output_type": "stream",
     "text": [
      "spamspamspam\n",
      "spamspamspam\n"
     ]
    }
   ],
   "source": [
    "print(\"spam\"+\"spamspam\")\n",
    "print(\"spam\"*3)"
   ]
  },
  {
   "cell_type": "markdown",
   "id": "97931975",
   "metadata": {
    "id": "f442ecdc"
   },
   "source": [
    "*8. Why is eggs a valid variable name while 100 is invalid?*\n",
    "\n",
    "Because the variable name cannot begin with a number."
   ]
  },
  {
   "cell_type": "markdown",
   "id": "3d3544b2",
   "metadata": {
    "id": "7cba9cc7"
   },
   "source": [
    "*9. What three functions can be used to get the integer, floating-point number, or string version of a value?*\n",
    "\n",
    "int() - to get integer <br> \n",
    "float() -  to get floating-point number <br> \n",
    "str() - to get  string version of a value"
   ]
  },
  {
   "cell_type": "markdown",
   "id": "7200d9cb",
   "metadata": {
    "id": "539136f1"
   },
   "source": [
    "*10. Why does this expression cause an error? How can you fix it?\n",
    "'I have eaten ' + 99 + ' burritos'*\n",
    " \n",
    "Because 99 is an integer and only strings can be concatenated to other strings with the '+' operator. The correct way to write is:\n",
    "\"i have eaten\" + str(99) + \"burritos\""
   ]
  }
 ],
 "metadata": {
  "colab": {
   "name": "Assignment-1_shreya.ipynb",
   "provenance": []
  },
  "kernelspec": {
   "display_name": "Python 3 (ipykernel)",
   "language": "python",
   "name": "python3"
  },
  "language_info": {
   "codemirror_mode": {
    "name": "ipython",
    "version": 3
   },
   "file_extension": ".py",
   "mimetype": "text/x-python",
   "name": "python",
   "nbconvert_exporter": "python",
   "pygments_lexer": "ipython3",
   "version": "3.9.7"
  }
 },
 "nbformat": 4,
 "nbformat_minor": 5
}
